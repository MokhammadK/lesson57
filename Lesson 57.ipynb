{
 "cells": [
  {
   "cell_type": "code",
   "execution_count": 3,
   "id": "1991679f",
   "metadata": {},
   "outputs": [],
   "source": [
    "import cv2\n",
    "import matplotlib\n",
    "import matplotlib.pyplot as plt"
   ]
  },
  {
   "cell_type": "code",
   "execution_count": 18,
   "id": "117f475e",
   "metadata": {},
   "outputs": [],
   "source": [
    "def open_display_image(im_path):\n",
    "    im = cv2.imread(im_path)\n",
    "    \n",
    "    if im is None:\n",
    "        print(\"Error: Image not found or could not be opened\")\n",
    "        return None \n",
    "    \n",
    "    cv2.imshow(\"Loaded Image\", cv2.cvtColor(im, cv2.COLOR_BGR2RGB))\n",
    "    cv2.waitKey(0)  \n",
    "    cv2.destroyAllWindows() "
   ]
  },
  {
   "cell_type": "code",
   "execution_count": 20,
   "id": "a80b7286",
   "metadata": {},
   "outputs": [],
   "source": [
    "def save_image(im, save_path):\n",
    "    cv2.imwrite(save_path, im)\n",
    "    print(\"Зображення успішно збережено:\", save_path)"
   ]
  },
  {
   "cell_type": "code",
   "execution_count": 36,
   "id": "cde76290",
   "metadata": {},
   "outputs": [],
   "source": [
    "def change_contrast_brightness(image, contrast, brightness):\n",
    "    modified_image = cv2.convertScaleAbs(image, alpha=contrast, beta=brightness)\n",
    "    return modified_image"
   ]
  },
  {
   "cell_type": "code",
   "execution_count": 37,
   "id": "389ea603",
   "metadata": {},
   "outputs": [],
   "source": [
    "def change_brightness(image, brightness):\n",
    "    modified_image = cv2.add(image, brightness)\n",
    "    return modified_image"
   ]
  },
  {
   "cell_type": "code",
   "execution_count": 38,
   "id": "08df817f",
   "metadata": {},
   "outputs": [],
   "source": [
    "def change_saturation(image, saturation_factor):\n",
    "    hsv_image = cv2.cvtColor(image, cv2.COLOR_BGR2HSV)\n",
    "    hsv_image[:, :, 1] = hsv_image[:, :, 1] * saturation_factor\n",
    "    modified_image = cv2.cvtColor(hsv_image, cv2.COLOR_HSV2BGR)\n",
    "    return modified_image"
   ]
  },
  {
   "cell_type": "code",
   "execution_count": 39,
   "id": "414a0ab2",
   "metadata": {},
   "outputs": [],
   "source": [
    "def resize_image(image, new_width, new_height):\n",
    "    resized_image = cv2.resize(image, (new_width, new_height))\n",
    "    return resized_image"
   ]
  },
  {
   "cell_type": "code",
   "execution_count": 40,
   "id": "e29a6f28",
   "metadata": {},
   "outputs": [],
   "source": [
    "def crop_image(image, x_start, y_start, x_end, y_end):\n",
    "    cropped_image = image[y_start:y_end, x_start:x_end]\n",
    "    return cropped_image"
   ]
  },
  {
   "cell_type": "code",
   "execution_count": 41,
   "id": "ba667b3f",
   "metadata": {},
   "outputs": [],
   "source": [
    "def rotate_image(image, angle_degrees):\n",
    "    rows, cols, _ = image.shape\n",
    "    rotation_matrix = cv2.getRotationMatrix2D((cols / 2, rows / 2), angle_degrees, 1)\n",
    "    rotated_image = cv2.warpAffine(image, rotation_matrix, (cols, rows))\n",
    "    return rotated_image"
   ]
  },
  {
   "cell_type": "code",
   "execution_count": 51,
   "id": "3ed308f7",
   "metadata": {},
   "outputs": [],
   "source": [
    "image_path = \"C:\\\\Users\\\\Bruger\\\\Downloads\\\\cat.jpg\"\n",
    "original_image = cv2.imread(image_path)\n",
    "contrast = 1.5\n",
    "brightness = 20\n",
    "modified_image = change_contrast_brightness(original_image, contrast, brightness)\n",
    "cv2.imshow(\"Contrast & Brightness\", modified_image)\n",
    "cv2.waitKey(0)\n",
    "cv2.destroyAllWindows()"
   ]
  },
  {
   "cell_type": "code",
   "execution_count": 52,
   "id": "d05a9cb7",
   "metadata": {},
   "outputs": [],
   "source": [
    "brightness = 50\n",
    "brightened_image = change_brightness(original_image, brightness_factor)\n",
    "cv2.imshow(\"Brightness\", brightened_image)\n",
    "cv2.waitKey(0)\n",
    "cv2.destroyAllWindows()"
   ]
  },
  {
   "cell_type": "code",
   "execution_count": 53,
   "id": "de7c2b5f",
   "metadata": {},
   "outputs": [],
   "source": [
    "saturation_factor = 1.5\n",
    "saturated_image = change_saturation(original_image, saturation_factor)\n",
    "cv2.imshow(\"Saturation\", saturated_image)\n",
    "cv2.waitKey(0)\n",
    "cv2.destroyAllWindows()"
   ]
  },
  {
   "cell_type": "code",
   "execution_count": 54,
   "id": "15b3dbca",
   "metadata": {},
   "outputs": [],
   "source": [
    "new_width = 400\n",
    "new_height = 300\n",
    "resized_image = resize_image(original_image, new_width, new_height)\n",
    "cv2.imshow(\"Resized\", resized_image)\n",
    "cv2.waitKey(0)\n",
    "cv2.destroyAllWindows()"
   ]
  },
  {
   "cell_type": "code",
   "execution_count": 55,
   "id": "43124d2a",
   "metadata": {},
   "outputs": [],
   "source": [
    "x_start, y_start, x_end, y_end = 100, 50, 400, 350\n",
    "cropped_image = crop_image(original_image, x_start, y_start, x_end, y_end)\n",
    "cv2.imshow(\"Cropped\", cropped_image)\n",
    "cv2.waitKey(0)\n",
    "cv2.destroyAllWindows()"
   ]
  },
  {
   "cell_type": "code",
   "execution_count": 56,
   "id": "6a423ccc",
   "metadata": {},
   "outputs": [],
   "source": [
    "angle_degrees = 45\n",
    "rotated_image = rotate_image(original_image, angle_degrees)\n",
    "cv2.imshow(\"Rotated\", rotated_image)\n",
    "cv2.waitKey(0)\n",
    "cv2.destroyAllWindows()"
   ]
  },
  {
   "cell_type": "code",
   "execution_count": null,
   "id": "4a080cc8",
   "metadata": {},
   "outputs": [],
   "source": []
  }
 ],
 "metadata": {
  "kernelspec": {
   "display_name": "Python 3 (ipykernel)",
   "language": "python",
   "name": "python3"
  },
  "language_info": {
   "codemirror_mode": {
    "name": "ipython",
    "version": 3
   },
   "file_extension": ".py",
   "mimetype": "text/x-python",
   "name": "python",
   "nbconvert_exporter": "python",
   "pygments_lexer": "ipython3",
   "version": "3.11.3"
  }
 },
 "nbformat": 4,
 "nbformat_minor": 5
}
